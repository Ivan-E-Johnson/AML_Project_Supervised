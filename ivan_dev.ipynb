{
 "cells": [
  {
   "cell_type": "code",
   "execution_count": 1,
   "id": "initial_id",
   "metadata": {
    "collapsed": true,
    "ExecuteTime": {
     "end_time": "2024-03-13T20:46:25.043665342Z",
     "start_time": "2024-03-13T20:46:21.490250936Z"
    }
   },
   "outputs": [],
   "source": [
    "from pathlib import Path\n",
    "import os\n",
    "import shutil\n",
    "import tempfile\n",
    "import matplotlib.pyplot as plt\n",
    "import itk\n",
    "import torch\n",
    "import numpy as np\n",
    "from monai.losses import DiceLoss\n",
    "from sklearn.metrics import classification_report\n",
    "import pydicom\n",
    "from monai.apps import download_and_extract\n",
    "from monai.config import print_config\n",
    "from monai.metrics import ROCAUCMetric\n",
    "from monai.networks.nets import DenseNet121\n",
    "from monai.transforms import (\n",
    "    Activations,\n",
    "    EnsureChannelFirst,\n",
    "    AsDiscrete,\n",
    "    Compose,\n",
    "    LoadImaged,\n",
    "    EnsureChannelFirstD,\n",
    "    SpatialResampleD,\n",
    "    SpacingD,\n",
    "    ResizeD,\n",
    "    LoadImage,\n",
    "    RandFlipD,\n",
    "    RandRotate,\n",
    "    RandZoom,\n",
    "    ScaleIntensity,\n",
    "    ToTensor,\n",
    "    RandFlipd, DataStatsD,\n",
    ")\n",
    "from monai.data import Dataset, DataLoader\n",
    "from monai.networks.nets import UNet\n",
    "from monai.transforms import (\n",
    "    LoadImaged,\n",
    "    ScaleIntensityd,\n",
    "    RandCropByPosNegLabeld,\n",
    "    ToTensord,\n",
    ")\n",
    "from sklearn.model_selection import train_test_split\n",
    "from monai.utils import set_determinism\n",
    "import numpy as np\n",
    "from monai.utils import first"
   ]
  },
  {
   "cell_type": "code",
   "outputs": [],
   "source": [
    "\n",
    "def init_data_lists(base_data_path):\n",
    "    mask_paths = []\n",
    "    image_paths = []\n",
    "    for dir in base_data_path.iterdir():\n",
    "        if dir.is_dir():\n",
    "            image_paths.append(dir / f\"{dir.name}_prostate.nii.gz\")\n",
    "            mask_paths.append(dir / f\"{dir.name}_segmentation.nii.gz\")\n",
    "    return image_paths, mask_paths"
   ],
   "metadata": {
    "collapsed": false,
    "is_executing": true
   },
   "id": "4773e03ed20c4022",
   "execution_count": null
  },
  {
   "cell_type": "code",
   "outputs": [],
   "source": [
    "\n"
   ],
   "metadata": {
    "collapsed": false,
    "is_executing": true
   },
   "id": "5c3c4a47ad1ef469",
   "execution_count": null
  },
  {
   "cell_type": "code",
   "outputs": [],
   "source": [
    "base_data_path = Path(\n",
    "    \"/Users/iejohnson/School/spring_2024/AML/Supervised_learning/Data/SortedProstateData\"\n",
    ")\n",
    "image_paths, mask_paths = init_data_lists(base_data_path)\n",
    "train_image_paths, test_image_paths, train_mask_paths, test_mask_paths = train_test_split(image_paths, mask_paths, test_size=0.2)\n",
    "# Prepare data\n",
    "data_dicts = [\n",
    "    {\"image\": img_path, \"label\": mask_path}\n",
    "    for img_path, mask_path in zip(train_image_paths, train_mask_paths)\n",
    "]\n",
    "train_files = data_dicts\n",
    "RandFlipd_prob = .35\n",
    "Spacing_dim = (1.5, 1.5, 3.0)\n",
    "Size_dim = (96,96, 24)\n",
    "ScaleIntensity_Image = (0, 255)\n",
    "ScaleIntensity_Mask = (0, 1)\n",
    "# Define transformations\n",
    "train_transforms = Compose(\n",
    "    [\n",
    "        LoadImaged(keys=[\"image\", \"label\"]),\n",
    "        EnsureChannelFirstD(keys=[\"image\", \"label\"]), # Add channel to image and mask so \n",
    "        SpacingD(keys=[\"image\", \"label\"], pixdim=Spacing_dim, mode=(\"bilinear\", \"nearest\")), # Downsample to 2mm spacing\n",
    "        ResizeD(keys=[\"image\", \"label\"], spatial_size=Size_dim, mode=(\"bilinear\", \"nearest\")), \n",
    "        DataStatsD(keys=[\"image\", \"label\"]),\n",
    "        ScaleIntensityd(keys=[\"image\"], minv=ScaleIntensity_Image[0], maxv=ScaleIntensity_Image[1]),\n",
    "        ScaleIntensityd(keys=[\"label\"], minv=ScaleIntensity_Mask[0], maxv=ScaleIntensity_Mask[1]), # Coarse Segmentation combine all mask\n",
    "        RandFlipd(keys=[\"image\", \"label\"], prob=RandFlipd_prob, spatial_axis=0),\n",
    "        RandFlipd(keys=[\"image\", \"label\"], prob=RandFlipd_prob, spatial_axis=1),\n",
    "        RandFlipd(keys=[\"image\", \"label\"], prob=RandFlipd_prob, spatial_axis=2),\n",
    "        ToTensord(keys=[\"image\", \"label\"]),\n",
    "    ]\n",
    ")\n",
    "validation_transforms = Compose(\n",
    "    [\n",
    "        LoadImaged(keys=[\"image\", \"label\"]),\n",
    "        EnsureChannelFirstD(keys=[\"image\", \"label\"]), # Add channel to image and mask so \n",
    "        SpacingD(keys=[\"image\", \"label\"], pixdim=Spacing_dim, mode=(\"bilinear\", \"nearest\")), # Downsample to 2mm spacing\n",
    "        ResizeD(keys=[\"image\", \"label\"], spatial_size=Size_dim, mode=(\"bilinear\", \"nearest\")), \n",
    "        DataStatsD(keys=[\"image\", \"label\"]),\n",
    "        ScaleIntensityd(keys=[\"image\"], minv=ScaleIntensity_Image[0], maxv=ScaleIntensity_Image[1]),\n",
    "        ScaleIntensityd(keys=[\"label\"], minv=ScaleIntensity_Mask[0], maxv=ScaleIntensity_Mask[1]), # Coarse Segmentation combine all mask\n",
    "        ToTensord(keys=[\"image\", \"label\"]),\n",
    "    ]\n",
    ")\n",
    "\n",
    "# Create MONAI dataset and dataloader\n",
    "train_ds = Dataset(data=data_dicts, transform=train_transforms)\n",
    "train_loader = DataLoader(train_ds, batch_size=2, shuffle=True, num_workers=4)\n",
    "\n",
    "\n",
    "# Create U-Net model\n",
    "# model = UNet(\n",
    "#     dimensions=3,\n",
    "#     in_channels=1,\n",
    "#     out_channels=1,\n",
    "#     channels=(16, 32, 64, 128, 256),\n",
    "#     strides=(2, 2, 2, 2),\n",
    "#     num_res_units=2,\n",
    "# )"
   ],
   "metadata": {
    "collapsed": false,
    "is_executing": true
   },
   "id": "df19635b6e539400",
   "execution_count": null
  },
  {
   "cell_type": "code",
   "outputs": [],
   "source": [
    "device = torch.device(\"cuda\" if torch.cuda.is_available() else \"cpu\")\n",
    "\n",
    "net = UNet(\n",
    "    spatial_dims=3,\n",
    "    in_channels=1,\n",
    "    out_channels=1,\n",
    "    channels=(16, 32, 64, 128, 256), # Number of features in each layer\n",
    "    strides=(2, 2, 2, 2),\n",
    "    num_res_units=2,\n",
    ").to(device)\n",
    "loss = DiceLoss(sigmoid=True)\n",
    "lr = 1e-3\n",
    "opt = torch.optim.Adam(net.parameters(), lr)\n"
   ],
   "metadata": {
    "collapsed": false,
    "is_executing": true
   },
   "id": "9b3c29fbd9ba7025",
   "execution_count": null
  },
  {
   "cell_type": "code",
   "outputs": [],
   "source": [
    "# https://github.com/Project-MONAI/tutorials/blob/main/3d_segmentation/unet_segmentation_3d_ignite.ipynb \n",
    "# TODO Continue with the tutorial adding the ignite training loop\n"
   ],
   "metadata": {
    "collapsed": false,
    "is_executing": true
   },
   "id": "3a32387caadff27f",
   "execution_count": null
  },
  {
   "cell_type": "code",
   "outputs": [],
   "source": [
    "import matplotlib.pyplot as plt\n",
    "import numpy as np\n",
    "\n",
    "def plot_image_histogram(image):\n",
    "    plt.hist(image.ravel(), bins=256)\n",
    "    plt.title('Image Histogram')\n",
    "    plt.show()\n",
    "\n",
    "def print_image_stats(image):\n",
    "    print(f'Min: {np.min(image)}, Max: {np.max(image)}, Mean: {np.mean(image)}, Std: {np.std(image)}')"
   ],
   "metadata": {
    "collapsed": false,
    "is_executing": true
   },
   "id": "6e28543be8027815",
   "execution_count": null
  },
  {
   "cell_type": "code",
   "outputs": [],
   "source": [],
   "metadata": {
    "collapsed": false,
    "is_executing": true
   },
   "id": "da79cf3c167224d6",
   "execution_count": null
  },
  {
   "cell_type": "markdown",
   "source": [],
   "metadata": {
    "collapsed": false
   },
   "id": "7a76340b1493e7fd"
  },
  {
   "cell_type": "code",
   "outputs": [],
   "source": [
    "import itk\n",
    "\n",
    "def load_image(image_path):\n",
    "    image = itk.imread(image_path)\n",
    "    image_array = itk.array_from_image(image)\n",
    "    return image_array\n",
    "\n",
    "def show_images(image_paths, mask_paths, num_images=5):\n",
    "    fig, ax = plt.subplots(num_images, 2, figsize=(10, num_images * 5))\n",
    "    for i in range(num_images):\n",
    "        image = load_image(image_paths[i])\n",
    "        mask = load_image(mask_paths[i])\n",
    "        ax[i, 0].imshow(image[5], cmap='gray')\n",
    "        ax[i, 0].set_title('Image')\n",
    "        ax[i, 1].imshow(mask[5])\n",
    "        ax[i, 1].set_title('Mask')\n",
    "    plt.tight_layout()\n",
    "    plt.show()"
   ],
   "metadata": {
    "collapsed": false,
    "is_executing": true
   },
   "id": "43d2b47e045a7ac6",
   "execution_count": null
  },
  {
   "cell_type": "code",
   "outputs": [],
   "source": [
    "# Get a batch of images and masks\n",
    "num_images = 5\n",
    "explore_image_paths = image_paths[:num_images]\n",
    "explore_mask_paths = mask_paths[:num_images]\n",
    "\n",
    "# Show images\n",
    "\n",
    "show_images(explore_image_paths, explore_mask_paths)"
   ],
   "metadata": {
    "collapsed": false,
    "is_executing": true
   },
   "id": "cfd74264b6a4216a",
   "execution_count": null
  },
  {
   "cell_type": "code",
   "outputs": [],
   "source": [
    "print(explore_mask_paths[0])\n",
    "explore_mask = load_image(explore_mask_paths[0])\n",
    "print_image_stats(explore_mask)\n",
    "# plot_image_histogram(explore_mask)\n",
    "print(np.unique(explore_mask)) "
   ],
   "metadata": {
    "collapsed": false,
    "is_executing": true
   },
   "id": "2f61b7d3c2199654",
   "execution_count": null
  },
  {
   "cell_type": "code",
   "outputs": [],
   "source": [
    "print(np.count_nonzero(explore_mask))"
   ],
   "metadata": {
    "collapsed": false,
    "is_executing": true
   },
   "id": "d407f830a1769ad4",
   "execution_count": null
  },
  {
   "cell_type": "code",
   "outputs": [],
   "source": [
    "train_transforms = Compose(\n",
    "    [\n",
    "        LoadImaged(keys=[\"image\", \"label\"]),\n",
    "        ScaleIntensityd(keys=[\"image\"]),\n",
    "        RandCropByPosNegLabeld(\n",
    "            keys=[\"image\", \"label\"],\n",
    "            label_key=\"label\",\n",
    "            spatial_size=[96, 96, 96],\n",
    "            pos=1,\n",
    "            neg=1,\n",
    "            num_samples=4,\n",
    "            image_key=\"image\",\n",
    "            image_threshold=0,\n",
    "        ),\n",
    "        ToTensord(keys=[\"image\", \"label\"]),\n",
    "    ]\n",
    ")"
   ],
   "metadata": {
    "collapsed": false,
    "is_executing": true
   },
   "id": "3136c026f3f56857",
   "execution_count": null
  }
 ],
 "metadata": {
  "kernelspec": {
   "display_name": "Python 3",
   "language": "python",
   "name": "python3"
  },
  "language_info": {
   "codemirror_mode": {
    "name": "ipython",
    "version": 2
   },
   "file_extension": ".py",
   "mimetype": "text/x-python",
   "name": "python",
   "nbconvert_exporter": "python",
   "pygments_lexer": "ipython2",
   "version": "2.7.6"
  }
 },
 "nbformat": 4,
 "nbformat_minor": 5
}
