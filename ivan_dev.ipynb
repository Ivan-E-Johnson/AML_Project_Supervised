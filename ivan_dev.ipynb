{
 "cells": [
  {
   "cell_type": "code",
   "execution_count": 1,
   "id": "initial_id",
   "metadata": {
    "collapsed": true,
    "ExecuteTime": {
     "end_time": "2024-03-13T21:26:57.312672647Z",
     "start_time": "2024-03-13T21:26:52.370336980Z"
    }
   },
   "outputs": [
    {
     "data": {
      "text/plain": "True"
     },
     "execution_count": 1,
     "metadata": {},
     "output_type": "execute_result"
    }
   ],
   "source": [
    "from pathlib import Path\n",
    "import os\n",
    "import shutil\n",
    "import tempfile\n",
    "import matplotlib.pyplot as plt\n",
    "import itk\n",
    "import torch\n",
    "import numpy as np\n",
    "from monai.losses import DiceLoss\n",
    "from sklearn.metrics import classification_report\n",
    "import pydicom\n",
    "from monai.apps import download_and_extract\n",
    "from monai.config import print_config\n",
    "from monai.metrics import ROCAUCMetric\n",
    "from monai.networks.nets import DenseNet121\n",
    "from dotenv import load_dotenv\n",
    "from monai.transforms import (\n",
    "    Activations,\n",
    "    EnsureChannelFirst,\n",
    "    AsDiscrete,\n",
    "    Compose,\n",
    "    LoadImaged,\n",
    "    EnsureChannelFirstD,\n",
    "    SpatialResampleD,\n",
    "    SpacingD,\n",
    "    ResizeD,\n",
    "    LoadImage,\n",
    "    RandFlipD,\n",
    "    RandRotate,\n",
    "    RandZoom,\n",
    "    ScaleIntensity,\n",
    "    ToTensor,\n",
    "    RandFlipd, DataStatsD,\n",
    ")\n",
    "from monai.data import Dataset, DataLoader\n",
    "from monai.networks.nets import UNet\n",
    "from monai.transforms import (\n",
    "    LoadImaged,\n",
    "    ScaleIntensityd,\n",
    "    RandCropByPosNegLabeld,\n",
    "    ToTensord,\n",
    ")\n",
    "from sklearn.model_selection import train_test_split\n",
    "from monai.utils import set_determinism\n",
    "import numpy as np\n",
    "from monai.utils import first\n",
    "load_dotenv()\n"
   ]
  },
  {
   "cell_type": "code",
   "outputs": [],
   "source": [
    "\n",
    "def init_data_lists(base_data_path):\n",
    "    mask_paths = []\n",
    "    image_paths = []\n",
    "    for dir in base_data_path.iterdir():\n",
    "        if dir.is_dir():\n",
    "            image_paths.append(dir / f\"{dir.name}_prostate.nii.gz\")\n",
    "            mask_paths.append(dir / f\"{dir.name}_segmentation.nii.gz\")\n",
    "    return image_paths, mask_paths"
   ],
   "metadata": {
    "collapsed": false,
    "ExecuteTime": {
     "end_time": "2024-03-13T21:26:57.313307421Z",
     "start_time": "2024-03-13T21:26:57.184229255Z"
    }
   },
   "id": "4773e03ed20c4022",
   "execution_count": 2
  },
  {
   "cell_type": "code",
   "outputs": [],
   "source": [
    "\n"
   ],
   "metadata": {
    "collapsed": false,
    "ExecuteTime": {
     "end_time": "2024-03-13T21:26:57.313768161Z",
     "start_time": "2024-03-13T21:26:57.190908724Z"
    }
   },
   "id": "5c3c4a47ad1ef469",
   "execution_count": 2
  },
  {
   "cell_type": "code",
   "outputs": [],
   "source": [
    "base_data_path = Path(\n",
    "    os.getenv(\"DATA_PATH\")\n",
    ")\n",
    "image_paths, mask_paths = init_data_lists(base_data_path)\n",
    "train_image_paths, test_image_paths, train_mask_paths, test_mask_paths = train_test_split(image_paths, mask_paths, test_size=0.2)\n",
    "# Prepare data\n",
    "data_dicts = [\n",
    "    {\"image\": img_path, \"label\": mask_path}\n",
    "    for img_path, mask_path in zip(train_image_paths, train_mask_paths)\n",
    "]\n",
    "train_files = data_dicts\n",
    "RandFlipd_prob = .35\n",
    "Spacing_dim = (1.5, 1.5, 3.0)\n",
    "Size_dim = (96,96, 24)\n",
    "ScaleIntensity_Image = (0, 255)\n",
    "ScaleIntensity_Mask = (0, 1)\n",
    "# Define transformations\n",
    "train_transforms = Compose(\n",
    "    [\n",
    "        LoadImaged(keys=[\"image\", \"label\"]),\n",
    "        EnsureChannelFirstD(keys=[\"image\", \"label\"]), # Add channel to image and mask so \n",
    "        SpacingD(keys=[\"image\", \"label\"], pixdim=Spacing_dim, mode=(\"bilinear\", \"nearest\")), # Downsample to 2mm spacing\n",
    "        ResizeD(keys=[\"image\", \"label\"], spatial_size=Size_dim, mode=(\"bilinear\", \"nearest\")), \n",
    "        DataStatsD(keys=[\"image\", \"label\"]),\n",
    "        ScaleIntensityd(keys=[\"image\"], minv=ScaleIntensity_Image[0], maxv=ScaleIntensity_Image[1]),\n",
    "        ScaleIntensityd(keys=[\"label\"], minv=ScaleIntensity_Mask[0], maxv=ScaleIntensity_Mask[1]), # Coarse Segmentation combine all mask\n",
    "        RandFlipd(keys=[\"image\", \"label\"], prob=RandFlipd_prob, spatial_axis=0),\n",
    "        RandFlipd(keys=[\"image\", \"label\"], prob=RandFlipd_prob, spatial_axis=1),\n",
    "        RandFlipd(keys=[\"image\", \"label\"], prob=RandFlipd_prob, spatial_axis=2),\n",
    "        DataStatsD(keys=[\"image\", \"label\"]),\n",
    "        ToTensord(keys=[\"image\", \"label\"]),\n",
    "    ]\n",
    ")\n",
    "validation_transforms = Compose(\n",
    "    [\n",
    "        LoadImaged(keys=[\"image\", \"label\"]),\n",
    "        EnsureChannelFirstD(keys=[\"image\", \"label\"]), # Add channel to image and mask so \n",
    "        SpacingD(keys=[\"image\", \"label\"], pixdim=Spacing_dim, mode=(\"bilinear\", \"nearest\")), # Downsample to 2mm spacing\n",
    "        ResizeD(keys=[\"image\", \"label\"], spatial_size=Size_dim, mode=(\"bilinear\", \"nearest\")), \n",
    "        DataStatsD(keys=[\"image\", \"label\"]),\n",
    "        ScaleIntensityd(keys=[\"image\"], minv=ScaleIntensity_Image[0], maxv=ScaleIntensity_Image[1]),\n",
    "        ScaleIntensityd(keys=[\"label\"], minv=ScaleIntensity_Mask[0], maxv=ScaleIntensity_Mask[1]), # Coarse Segmentation combine all mask\n",
    "        ToTensord(keys=[\"image\", \"label\"]),\n",
    "    ]\n",
    ")\n",
    "\n",
    "# Create MONAI dataset and dataloader\n",
    "train_ds = Dataset(data=data_dicts, transform=train_transforms)\n",
    "train_loader = DataLoader(train_ds, batch_size=1, shuffle=True, num_workers=4)\n",
    "\n",
    "\n"
   ],
   "metadata": {
    "collapsed": false,
    "ExecuteTime": {
     "end_time": "2024-03-13T21:33:38.704711717Z",
     "start_time": "2024-03-13T21:33:38.516325186Z"
    }
   },
   "id": "df19635b6e539400",
   "execution_count": 17
  },
  {
   "cell_type": "code",
   "outputs": [],
   "source": [
    "device = torch.device(\"cuda\" if torch.cuda.is_available() else \"cpu\")\n",
    "\n",
    "net = UNet(\n",
    "    spatial_dims=3,\n",
    "    in_channels=1,\n",
    "    out_channels=1,\n",
    "    channels=(16, 32, 64, 128, 256), # Number of features in each layer\n",
    "    strides=(2, 2, 2, 2),\n",
    "    num_res_units=2,\n",
    ").to(device)\n",
    "loss = DiceLoss(sigmoid=True)\n",
    "lr = 1e-3\n",
    "opt = torch.optim.Adam(net.parameters(), lr)\n"
   ],
   "metadata": {
    "collapsed": false,
    "ExecuteTime": {
     "end_time": "2024-03-13T21:33:39.878813023Z",
     "start_time": "2024-03-13T21:33:39.738035264Z"
    }
   },
   "id": "9b3c29fbd9ba7025",
   "execution_count": 18
  },
  {
   "cell_type": "code",
   "outputs": [
    {
     "name": "stdout",
     "output_type": "stream",
     "text": [
      "Data statistics:\n",
      "Type: <class 'monai.data.meta_tensor.MetaTensor'> torch.float32\n",
      "Shape: torch.Size([1, 96, 96, 24])\n",
      "Value range: (0.0, 1086.8961181640625)\n",
      "Data statistics:\n",
      "Type: <class 'monai.data.meta_tensor.MetaTensor'> torch.float32\n",
      "Shape: torch.Size([1, 96, 96, 24])\n",
      "Value range: (0.0, 4.0)\n",
      "Data statistics:\n",
      "Type: <class 'monai.data.meta_tensor.MetaTensor'> torch.float32\n",
      "Shape: torch.Size([1, 96, 96, 24])\n",
      "Value range: (0.0, 255.0)\n",
      "Data statistics:\n",
      "Type: <class 'monai.data.meta_tensor.MetaTensor'> torch.float32\n",
      "Shape: torch.Size([1, 96, 96, 24])\n",
      "Value range: (0.0, 1.0)\n",
      "Data statistics:\n",
      "Type: <class 'monai.data.meta_tensor.MetaTensor'> torch.float32\n",
      "Shape: torch.Size([1, 96, 96, 24])\n",
      "Value range: (0.1920299082994461, 989.436767578125)\n",
      "Data statistics:\n",
      "Type: <class 'monai.data.meta_tensor.MetaTensor'> torch.float32\n",
      "Shape: torch.Size([1, 96, 96, 24])\n",
      "Value range: (0.0, 4.0)\n",
      "Data statistics:\n",
      "Type: <class 'monai.data.meta_tensor.MetaTensor'> torch.float32\n",
      "Shape: torch.Size([1, 96, 96, 24])\n",
      "Value range: (0.0, 255.0)\n",
      "Data statistics:\n",
      "Type: <class 'monai.data.meta_tensor.MetaTensor'> torch.float32\n",
      "Shape: torch.Size([1, 96, 96, 24])\n",
      "Value range: (0.19226540625095367, 1435.017333984375)\n",
      "Data statistics:\n",
      "Type: <class 'monai.data.meta_tensor.MetaTensor'> torch.float32\n",
      "Shape: torch.Size([1, 96, 96, 24])\n",
      "Value range: (0.0, 1.0)\n",
      "Data statistics:\n",
      "Type: <class 'monai.data.meta_tensor.MetaTensor'> torch.float32\n",
      "Shape: torch.Size([1, 96, 96, 24])\n",
      "Value range: (0.0, 4.0)\n",
      "Data statistics:\n",
      "Type: <class 'monai.data.meta_tensor.MetaTensor'> torch.float32\n",
      "Shape: torch.Size([1, 96, 96, 24])\n",
      "Value range: (0.0, 255.0)\n",
      "Data statistics:\n",
      "Type: <class 'monai.data.meta_tensor.MetaTensor'> torch.float32\n",
      "Shape: torch.Size([1, 96, 96, 24])\n",
      "Value range: (0.0, 1.0)\n",
      "Data statistics:\n",
      "Type: <class 'monai.data.meta_tensor.MetaTensor'> torch.float32\n",
      "Shape: torch.Size([1, 96, 96, 24])\n",
      "Value range: (0.0, 880.5087890625)\n",
      "Data statistics:\n",
      "Type: <class 'monai.data.meta_tensor.MetaTensor'> torch.float32\n",
      "Shape: torch.Size([1, 96, 96, 24])\n",
      "Value range: (0.0, 4.0)\n",
      "Data statistics:\n",
      "Type: <class 'monai.data.meta_tensor.MetaTensor'> torch.float32\n",
      "Shape: torch.Size([1, 96, 96, 24])\n",
      "Value range: (0.0, 255.0)\n",
      "Data statistics:\n",
      "Type: <class 'monai.data.meta_tensor.MetaTensor'> torch.float32\n",
      "Shape: torch.Size([1, 96, 96, 24])\n",
      "Value range: (0.0, 1.0)\n",
      "Data statistics:\n",
      "Type: <class 'monai.data.meta_tensor.MetaTensor'> torch.float32\n",
      "Shape: torch.Size([1, 96, 96, 24])\n",
      "Value range: (0.185671865940094, 1040.18701171875)\n",
      "Data statistics:\n",
      "Type: <class 'monai.data.meta_tensor.MetaTensor'> torch.float32\n",
      "Shape: torch.Size([1, 96, 96, 24])\n",
      "Value range: (0.0, 4.0)\n",
      "Data statistics:\n",
      "Type: <class 'monai.data.meta_tensor.MetaTensor'> torch.float32\n",
      "Shape: torch.Size([1, 96, 96, 24])\n",
      "Value range: (0.0, 783.4566650390625)\n"
     ]
    },
    {
     "name": "stderr",
     "output_type": "stream",
     "text": [
      "Current run is terminating due to exception: too many values to unpack (expected 2)\n"
     ]
    },
    {
     "name": "stdout",
     "output_type": "stream",
     "text": [
      "Data statistics:\n",
      "Type: <class 'monai.data.meta_tensor.MetaTensor'> torch.float32\n",
      "Shape: torch.Size([1, 96, 96, 24])\n",
      "Value range: (0.0, 4.0)\n",
      "Data statistics:\n",
      "Type: <class 'monai.data.meta_tensor.MetaTensor'> torch.float32\n",
      "Shape: torch.Size([1, 96, 96, 24])\n",
      "Value range: (0.0, 255.0)\n",
      "Data statistics:\n",
      "Type: <class 'monai.data.meta_tensor.MetaTensor'> torch.float32\n",
      "Shape: torch.Size([1, 96, 96, 24])\n",
      "Value range: (0.0, 1.0)\n",
      "Data statistics:\n",
      "Type: <class 'monai.data.meta_tensor.MetaTensor'> torch.float32\n",
      "Shape: torch.Size([1, 96, 96, 24])\n",
      "Value range: (0.0, 255.0)\n",
      "Data statistics:\n",
      "Type: <class 'monai.data.meta_tensor.MetaTensor'> torch.float32\n",
      "Shape: torch.Size([1, 96, 96, 24])\n",
      "Value range: (0.0, 1.0)\n",
      "Data statistics:\n",
      "Type: <class 'monai.data.meta_tensor.MetaTensor'> torch.float32\n",
      "Shape: torch.Size([1, 96, 96, 24])\n",
      "Value range: (0.0, 951.837646484375)\n",
      "Data statistics:\n",
      "Type: <class 'monai.data.meta_tensor.MetaTensor'> torch.float32\n",
      "Shape: torch.Size([1, 96, 96, 24])\n",
      "Value range: (0.0, 4.0)\n",
      "Data statistics:\n",
      "Type: <class 'monai.data.meta_tensor.MetaTensor'> torch.float32\n",
      "Shape: torch.Size([1, 96, 96, 24])\n",
      "Value range: (0.0, 647.9819946289062)\n",
      "Data statistics:\n",
      "Type: <class 'monai.data.meta_tensor.MetaTensor'> torch.float32\n",
      "Shape: torch.Size([1, 96, 96, 24])\n",
      "Value range: (0.0, 4.0)\n",
      "Data statistics:\n",
      "Type: <class 'monai.data.meta_tensor.MetaTensor'> torch.float32\n",
      "Shape: torch.Size([1, 96, 96, 24])\n",
      "Value range: (0.0, 255.0)\n",
      "Data statistics:\n",
      "Type: <class 'monai.data.meta_tensor.MetaTensor'> torch.float32\n",
      "Shape: torch.Size([1, 96, 96, 24])\n",
      "Value range: (0.0, 255.0)\n",
      "Data statistics:\n",
      "Type: <class 'monai.data.meta_tensor.MetaTensor'> torch.float32\n",
      "Shape: torch.Size([1, 96, 96, 24])\n",
      "Value range: (0.0, 1.0)\n",
      "Data statistics:\n",
      "Type: <class 'monai.data.meta_tensor.MetaTensor'> torch.float32\n",
      "Shape: torch.Size([1, 96, 96, 24])\n",
      "Value range: (0.0, 1.0)\n"
     ]
    },
    {
     "name": "stderr",
     "output_type": "stream",
     "text": [
      "Engine run is terminating due to exception: too many values to unpack (expected 2)\n"
     ]
    },
    {
     "ename": "ValueError",
     "evalue": "too many values to unpack (expected 2)",
     "output_type": "error",
     "traceback": [
      "\u001B[0;31m---------------------------------------------------------------------------\u001B[0m",
      "\u001B[0;31mValueError\u001B[0m                                Traceback (most recent call last)",
      "Cell \u001B[0;32mIn[31], line 16\u001B[0m\n\u001B[1;32m     14\u001B[0m trainer \u001B[38;5;241m=\u001B[39m create_supervised_trainer(net, opt, loss, device, \u001B[38;5;28;01mFalse\u001B[39;00m)\n\u001B[1;32m     15\u001B[0m max_epochs \u001B[38;5;241m=\u001B[39m \u001B[38;5;241m10\u001B[39m\n\u001B[0;32m---> 16\u001B[0m state \u001B[38;5;241m=\u001B[39m \u001B[43mtrainer\u001B[49m\u001B[38;5;241;43m.\u001B[39;49m\u001B[43mrun\u001B[49m\u001B[43m(\u001B[49m\u001B[43mtrain_loader\u001B[49m\u001B[43m,\u001B[49m\u001B[43m \u001B[49m\u001B[43mmax_epochs\u001B[49m\u001B[43m)\u001B[49m\n",
      "File \u001B[0;32m~/.venv/AML/lib/python3.10/site-packages/ignite/engine/engine.py:898\u001B[0m, in \u001B[0;36mEngine.run\u001B[0;34m(self, data, max_epochs, epoch_length, seed)\u001B[0m\n\u001B[1;32m    895\u001B[0m     \u001B[38;5;28mself\u001B[39m\u001B[38;5;241m.\u001B[39mstate\u001B[38;5;241m.\u001B[39mdataloader \u001B[38;5;241m=\u001B[39m data\n\u001B[1;32m    897\u001B[0m \u001B[38;5;28;01mif\u001B[39;00m \u001B[38;5;28mself\u001B[39m\u001B[38;5;241m.\u001B[39minterrupt_resume_enabled:\n\u001B[0;32m--> 898\u001B[0m     \u001B[38;5;28;01mreturn\u001B[39;00m \u001B[38;5;28;43mself\u001B[39;49m\u001B[38;5;241;43m.\u001B[39;49m\u001B[43m_internal_run\u001B[49m\u001B[43m(\u001B[49m\u001B[43m)\u001B[49m\n\u001B[1;32m    899\u001B[0m \u001B[38;5;28;01melse\u001B[39;00m:\n\u001B[1;32m    900\u001B[0m     \u001B[38;5;28;01mreturn\u001B[39;00m \u001B[38;5;28mself\u001B[39m\u001B[38;5;241m.\u001B[39m_internal_run_legacy()\n",
      "File \u001B[0;32m~/.venv/AML/lib/python3.10/site-packages/ignite/engine/engine.py:941\u001B[0m, in \u001B[0;36mEngine._internal_run\u001B[0;34m(self)\u001B[0m\n\u001B[1;32m    939\u001B[0m     \u001B[38;5;28mself\u001B[39m\u001B[38;5;241m.\u001B[39m_internal_run_generator \u001B[38;5;241m=\u001B[39m \u001B[38;5;28mself\u001B[39m\u001B[38;5;241m.\u001B[39m_internal_run_as_gen()\n\u001B[1;32m    940\u001B[0m \u001B[38;5;28;01mtry\u001B[39;00m:\n\u001B[0;32m--> 941\u001B[0m     \u001B[38;5;28;01mreturn\u001B[39;00m \u001B[38;5;28;43mnext\u001B[39;49m\u001B[43m(\u001B[49m\u001B[38;5;28;43mself\u001B[39;49m\u001B[38;5;241;43m.\u001B[39;49m\u001B[43m_internal_run_generator\u001B[49m\u001B[43m)\u001B[49m\n\u001B[1;32m    942\u001B[0m \u001B[38;5;28;01mexcept\u001B[39;00m \u001B[38;5;167;01mStopIteration\u001B[39;00m \u001B[38;5;28;01mas\u001B[39;00m out:\n\u001B[1;32m    943\u001B[0m     \u001B[38;5;28mself\u001B[39m\u001B[38;5;241m.\u001B[39m_internal_run_generator \u001B[38;5;241m=\u001B[39m \u001B[38;5;28;01mNone\u001B[39;00m\n",
      "File \u001B[0;32m~/.venv/AML/lib/python3.10/site-packages/ignite/engine/engine.py:999\u001B[0m, in \u001B[0;36mEngine._internal_run_as_gen\u001B[0;34m(self)\u001B[0m\n\u001B[1;32m    997\u001B[0m     \u001B[38;5;28mself\u001B[39m\u001B[38;5;241m.\u001B[39m_dataloader_iter \u001B[38;5;241m=\u001B[39m \u001B[38;5;28;01mNone\u001B[39;00m\n\u001B[1;32m    998\u001B[0m     \u001B[38;5;28mself\u001B[39m\u001B[38;5;241m.\u001B[39mlogger\u001B[38;5;241m.\u001B[39merror(\u001B[38;5;124mf\u001B[39m\u001B[38;5;124m\"\u001B[39m\u001B[38;5;124mEngine run is terminating due to exception: \u001B[39m\u001B[38;5;132;01m{\u001B[39;00me\u001B[38;5;132;01m}\u001B[39;00m\u001B[38;5;124m\"\u001B[39m)\n\u001B[0;32m--> 999\u001B[0m     \u001B[38;5;28;43mself\u001B[39;49m\u001B[38;5;241;43m.\u001B[39;49m\u001B[43m_handle_exception\u001B[49m\u001B[43m(\u001B[49m\u001B[43me\u001B[49m\u001B[43m)\u001B[49m\n\u001B[1;32m   1001\u001B[0m \u001B[38;5;28mself\u001B[39m\u001B[38;5;241m.\u001B[39m_dataloader_iter \u001B[38;5;241m=\u001B[39m \u001B[38;5;28;01mNone\u001B[39;00m\n\u001B[1;32m   1002\u001B[0m \u001B[38;5;28;01mreturn\u001B[39;00m \u001B[38;5;28mself\u001B[39m\u001B[38;5;241m.\u001B[39mstate\n",
      "File \u001B[0;32m~/.venv/AML/lib/python3.10/site-packages/ignite/engine/engine.py:644\u001B[0m, in \u001B[0;36mEngine._handle_exception\u001B[0;34m(self, e)\u001B[0m\n\u001B[1;32m    642\u001B[0m     \u001B[38;5;28mself\u001B[39m\u001B[38;5;241m.\u001B[39m_fire_event(Events\u001B[38;5;241m.\u001B[39mEXCEPTION_RAISED, e)\n\u001B[1;32m    643\u001B[0m \u001B[38;5;28;01melse\u001B[39;00m:\n\u001B[0;32m--> 644\u001B[0m     \u001B[38;5;28;01mraise\u001B[39;00m e\n",
      "File \u001B[0;32m~/.venv/AML/lib/python3.10/site-packages/ignite/engine/engine.py:965\u001B[0m, in \u001B[0;36mEngine._internal_run_as_gen\u001B[0;34m(self)\u001B[0m\n\u001B[1;32m    962\u001B[0m \u001B[38;5;28;01mif\u001B[39;00m \u001B[38;5;28mself\u001B[39m\u001B[38;5;241m.\u001B[39m_dataloader_iter \u001B[38;5;129;01mis\u001B[39;00m \u001B[38;5;28;01mNone\u001B[39;00m:\n\u001B[1;32m    963\u001B[0m     \u001B[38;5;28mself\u001B[39m\u001B[38;5;241m.\u001B[39m_setup_engine()\n\u001B[0;32m--> 965\u001B[0m epoch_time_taken \u001B[38;5;241m+\u001B[39m\u001B[38;5;241m=\u001B[39m \u001B[38;5;28;01myield from\u001B[39;00m \u001B[38;5;28mself\u001B[39m\u001B[38;5;241m.\u001B[39m_run_once_on_dataset_as_gen()\n\u001B[1;32m    967\u001B[0m \u001B[38;5;66;03m# time is available for handlers but must be updated after fire\u001B[39;00m\n\u001B[1;32m    968\u001B[0m \u001B[38;5;28mself\u001B[39m\u001B[38;5;241m.\u001B[39mstate\u001B[38;5;241m.\u001B[39mtimes[Events\u001B[38;5;241m.\u001B[39mEPOCH_COMPLETED\u001B[38;5;241m.\u001B[39mname] \u001B[38;5;241m=\u001B[39m epoch_time_taken\n",
      "File \u001B[0;32m~/.venv/AML/lib/python3.10/site-packages/ignite/engine/engine.py:1093\u001B[0m, in \u001B[0;36mEngine._run_once_on_dataset_as_gen\u001B[0;34m(self)\u001B[0m\n\u001B[1;32m   1091\u001B[0m \u001B[38;5;28;01mexcept\u001B[39;00m \u001B[38;5;167;01mException\u001B[39;00m \u001B[38;5;28;01mas\u001B[39;00m e:\n\u001B[1;32m   1092\u001B[0m     \u001B[38;5;28mself\u001B[39m\u001B[38;5;241m.\u001B[39mlogger\u001B[38;5;241m.\u001B[39merror(\u001B[38;5;124mf\u001B[39m\u001B[38;5;124m\"\u001B[39m\u001B[38;5;124mCurrent run is terminating due to exception: \u001B[39m\u001B[38;5;132;01m{\u001B[39;00me\u001B[38;5;132;01m}\u001B[39;00m\u001B[38;5;124m\"\u001B[39m)\n\u001B[0;32m-> 1093\u001B[0m     \u001B[38;5;28;43mself\u001B[39;49m\u001B[38;5;241;43m.\u001B[39;49m\u001B[43m_handle_exception\u001B[49m\u001B[43m(\u001B[49m\u001B[43me\u001B[49m\u001B[43m)\u001B[49m\n\u001B[1;32m   1095\u001B[0m \u001B[38;5;28;01mreturn\u001B[39;00m time\u001B[38;5;241m.\u001B[39mtime() \u001B[38;5;241m-\u001B[39m start_time\n",
      "File \u001B[0;32m~/.venv/AML/lib/python3.10/site-packages/ignite/engine/engine.py:644\u001B[0m, in \u001B[0;36mEngine._handle_exception\u001B[0;34m(self, e)\u001B[0m\n\u001B[1;32m    642\u001B[0m     \u001B[38;5;28mself\u001B[39m\u001B[38;5;241m.\u001B[39m_fire_event(Events\u001B[38;5;241m.\u001B[39mEXCEPTION_RAISED, e)\n\u001B[1;32m    643\u001B[0m \u001B[38;5;28;01melse\u001B[39;00m:\n\u001B[0;32m--> 644\u001B[0m     \u001B[38;5;28;01mraise\u001B[39;00m e\n",
      "File \u001B[0;32m~/.venv/AML/lib/python3.10/site-packages/ignite/engine/engine.py:1074\u001B[0m, in \u001B[0;36mEngine._run_once_on_dataset_as_gen\u001B[0;34m(self)\u001B[0m\n\u001B[1;32m   1071\u001B[0m \u001B[38;5;28mself\u001B[39m\u001B[38;5;241m.\u001B[39m_fire_event(Events\u001B[38;5;241m.\u001B[39mITERATION_STARTED)\n\u001B[1;32m   1072\u001B[0m \u001B[38;5;28;01myield from\u001B[39;00m \u001B[38;5;28mself\u001B[39m\u001B[38;5;241m.\u001B[39m_maybe_terminate_or_interrupt()\n\u001B[0;32m-> 1074\u001B[0m \u001B[38;5;28mself\u001B[39m\u001B[38;5;241m.\u001B[39mstate\u001B[38;5;241m.\u001B[39moutput \u001B[38;5;241m=\u001B[39m \u001B[38;5;28;43mself\u001B[39;49m\u001B[38;5;241;43m.\u001B[39;49m\u001B[43m_process_function\u001B[49m\u001B[43m(\u001B[49m\u001B[38;5;28;43mself\u001B[39;49m\u001B[43m,\u001B[49m\u001B[43m \u001B[49m\u001B[38;5;28;43mself\u001B[39;49m\u001B[38;5;241;43m.\u001B[39;49m\u001B[43mstate\u001B[49m\u001B[38;5;241;43m.\u001B[39;49m\u001B[43mbatch\u001B[49m\u001B[43m)\u001B[49m\n\u001B[1;32m   1075\u001B[0m \u001B[38;5;28mself\u001B[39m\u001B[38;5;241m.\u001B[39m_fire_event(Events\u001B[38;5;241m.\u001B[39mITERATION_COMPLETED)\n\u001B[1;32m   1076\u001B[0m \u001B[38;5;28;01myield from\u001B[39;00m \u001B[38;5;28mself\u001B[39m\u001B[38;5;241m.\u001B[39m_maybe_terminate_or_interrupt()\n",
      "File \u001B[0;32m~/.venv/AML/lib/python3.10/site-packages/ignite/engine/__init__.py:111\u001B[0m, in \u001B[0;36msupervised_training_step.<locals>.update\u001B[0;34m(engine, batch)\u001B[0m\n\u001B[1;32m    109\u001B[0m     optimizer\u001B[38;5;241m.\u001B[39mzero_grad()\n\u001B[1;32m    110\u001B[0m model\u001B[38;5;241m.\u001B[39mtrain()\n\u001B[0;32m--> 111\u001B[0m x, y \u001B[38;5;241m=\u001B[39m \u001B[43mprepare_batch\u001B[49m\u001B[43m(\u001B[49m\u001B[43mbatch\u001B[49m\u001B[43m,\u001B[49m\u001B[43m \u001B[49m\u001B[43mdevice\u001B[49m\u001B[38;5;241;43m=\u001B[39;49m\u001B[43mdevice\u001B[49m\u001B[43m,\u001B[49m\u001B[43m \u001B[49m\u001B[43mnon_blocking\u001B[49m\u001B[38;5;241;43m=\u001B[39;49m\u001B[43mnon_blocking\u001B[49m\u001B[43m)\u001B[49m\n\u001B[1;32m    112\u001B[0m output \u001B[38;5;241m=\u001B[39m model_fn(model, x)\n\u001B[1;32m    113\u001B[0m y_pred \u001B[38;5;241m=\u001B[39m model_transform(output)\n",
      "File \u001B[0;32m~/.venv/AML/lib/python3.10/site-packages/ignite/engine/__init__.py:37\u001B[0m, in \u001B[0;36m_prepare_batch\u001B[0;34m(batch, device, non_blocking)\u001B[0m\n\u001B[1;32m     33\u001B[0m \u001B[38;5;28;01mdef\u001B[39;00m \u001B[38;5;21m_prepare_batch\u001B[39m(\n\u001B[1;32m     34\u001B[0m     batch: Sequence[torch\u001B[38;5;241m.\u001B[39mTensor], device: Optional[Union[\u001B[38;5;28mstr\u001B[39m, torch\u001B[38;5;241m.\u001B[39mdevice]] \u001B[38;5;241m=\u001B[39m \u001B[38;5;28;01mNone\u001B[39;00m, non_blocking: \u001B[38;5;28mbool\u001B[39m \u001B[38;5;241m=\u001B[39m \u001B[38;5;28;01mFalse\u001B[39;00m\n\u001B[1;32m     35\u001B[0m ) \u001B[38;5;241m-\u001B[39m\u001B[38;5;241m>\u001B[39m Tuple[Union[torch\u001B[38;5;241m.\u001B[39mTensor, Sequence, Mapping, \u001B[38;5;28mstr\u001B[39m, \u001B[38;5;28mbytes\u001B[39m], \u001B[38;5;241m.\u001B[39m\u001B[38;5;241m.\u001B[39m\u001B[38;5;241m.\u001B[39m]:\n\u001B[1;32m     36\u001B[0m \u001B[38;5;250m    \u001B[39m\u001B[38;5;124;03m\"\"\"Prepare batch for training or evaluation: pass to a device with options.\"\"\"\u001B[39;00m\n\u001B[0;32m---> 37\u001B[0m     x, y \u001B[38;5;241m=\u001B[39m batch\n\u001B[1;32m     38\u001B[0m     \u001B[38;5;28;01mreturn\u001B[39;00m (\n\u001B[1;32m     39\u001B[0m         convert_tensor(x, device\u001B[38;5;241m=\u001B[39mdevice, non_blocking\u001B[38;5;241m=\u001B[39mnon_blocking),\n\u001B[1;32m     40\u001B[0m         convert_tensor(y, device\u001B[38;5;241m=\u001B[39mdevice, non_blocking\u001B[38;5;241m=\u001B[39mnon_blocking),\n\u001B[1;32m     41\u001B[0m     )\n",
      "\u001B[0;31mValueError\u001B[0m: too many values to unpack (expected 2)"
     ]
    }
   ],
   "source": [
    "from ignite.engine import create_supervised_trainer\n",
    "# https://github.com/Project-MONAI/tutorials/blob/main/3d_segmentation/unet_segmentation_3d_ignite.ipynb \n",
    "# TODO Continue with the tutorial adding the ignite training loop\n",
    "import ignite\n",
    "from ignite.engine import create_supervised_trainer\n",
    "from monai.handlers import (\n",
    "    MeanDice,\n",
    "    MLFlowHandler,\n",
    "    StatsHandler,\n",
    "    TensorBoardImageHandler,\n",
    "    TensorBoardStatsHandler,\n",
    ")\n",
    "\n",
    "trainer = create_supervised_trainer(net, opt, loss, device, False)\n",
    "max_epochs = 10\n",
    "state = trainer.run(train_loader, max_epochs)"
   ],
   "metadata": {
    "collapsed": false,
    "ExecuteTime": {
     "end_time": "2024-03-13T21:35:51.177521599Z",
     "start_time": "2024-03-13T21:35:46.394247374Z"
    }
   },
   "id": "3a32387caadff27f",
   "execution_count": 31
  },
  {
   "cell_type": "code",
   "execution_count": 27,
   "outputs": [],
   "source": [
    "# current_dir = Path(os.getcwd())\n",
    "# log_dir = current_dir / \"logs\"\n",
    "# log_dir.mkdir(exist_ok=True, parents=True)\n",
    "# \n",
    "# checkpoint_handler = ignite.handlers.ModelCheckpoint(log_dir, \"net\", n_saved=10, require_empty=False)\n",
    "# trainer.add_event_handler(\n",
    "#     event_name=ignite.engine.Events.EPOCH_COMPLETED,\n",
    "#     handler=checkpoint_handler,\n",
    "#     to_save={\"net\": net, \"opt\": opt},\n",
    "# )\n",
    "\n",
    "# StatsHandler prints loss at every iteration\n",
    "# user can also customize print functions and can use output_transform to convert\n",
    "# engine.state.output if it's not a loss value\n",
    "train_stats_handler = StatsHandler(name=\"trainer\", output_transform=lambda x: x)\n",
    "train_stats_handler.attach(trainer)\n"
   ],
   "metadata": {
    "collapsed": false,
    "ExecuteTime": {
     "end_time": "2024-03-13T21:34:35.978483815Z",
     "start_time": "2024-03-13T21:34:35.915555895Z"
    }
   },
   "id": "5a90136a7907168a"
  },
  {
   "cell_type": "code",
   "execution_count": 28,
   "outputs": [
    {
     "name": "stdout",
     "output_type": "stream",
     "text": [
      "Data statistics:\n",
      "Type: <class 'monai.data.meta_tensor.MetaTensor'> torch.float32\n",
      "Shape: torch.Size([1, 96, 96, 24])\n",
      "Value range: (0.0, 907.5302124023438)\n",
      "Data statistics:\n",
      "Type: <class 'monai.data.meta_tensor.MetaTensor'> torch.float32\n",
      "Shape: torch.Size([1, 96, 96, 24])\n",
      "Value range: (0.0, 923.203125)\n",
      "Data statistics:\n",
      "Type: <class 'monai.data.meta_tensor.MetaTensor'> torch.float32\n",
      "Shape: torch.Size([1, 96, 96, 24])\n",
      "Value range: (0.0, 4.0)\n",
      "Data statistics:\n",
      "Type: <class 'monai.data.meta_tensor.MetaTensor'> torch.float32\n",
      "Shape: torch.Size([1, 96, 96, 24])\n",
      "Value range: (0.0, 4.0)\n",
      "Data statistics:\n",
      "Type: <class 'monai.data.meta_tensor.MetaTensor'> torch.float32\n",
      "Shape: torch.Size([1, 96, 96, 24])\n",
      "Value range: (0.0, 255.0)\n",
      "Data statistics:\n",
      "Type: <class 'monai.data.meta_tensor.MetaTensor'> torch.float32\n",
      "Shape: torch.Size([1, 96, 96, 24])\n",
      "Value range: (0.0, 255.0)\n",
      "Data statistics:\n",
      "Type: <class 'monai.data.meta_tensor.MetaTensor'> torch.float32\n",
      "Shape: torch.Size([1, 96, 96, 24])\n",
      "Value range: (0.0, 1.0)\n",
      "Data statistics:\n",
      "Type: <class 'monai.data.meta_tensor.MetaTensor'> torch.float32\n",
      "Shape: torch.Size([1, 96, 96, 24])\n",
      "Value range: (0.0, 1.0)\n",
      "Data statistics:\n",
      "Type: <class 'monai.data.meta_tensor.MetaTensor'> torch.float32\n",
      "Shape: torch.Size([1, 96, 96, 24])\n",
      "Value range: (0.0, 883.551025390625)\n",
      "Data statistics:\n",
      "Type: <class 'monai.data.meta_tensor.MetaTensor'> torch.float32\n",
      "Shape: torch.Size([1, 96, 96, 24])\n",
      "Value range: (0.0, 4.0)\n",
      "Data statistics:\n",
      "Type: <class 'monai.data.meta_tensor.MetaTensor'> torch.float32\n",
      "Shape: torch.Size([1, 96, 96, 24])\n",
      "Value range: (0.0, 255.0)\n",
      "Data statistics:\n",
      "Type: <class 'monai.data.meta_tensor.MetaTensor'> torch.float32\n",
      "Shape: torch.Size([1, 96, 96, 24])\n",
      "Value range: (0.0, 836.2699584960938)\n",
      "Data statistics:\n",
      "Type: <class 'monai.data.meta_tensor.MetaTensor'> torch.float32\n",
      "Shape: torch.Size([1, 96, 96, 24])\n",
      "Value range: (0.0, 1.0)\n",
      "Data statistics:\n",
      "Type: <class 'monai.data.meta_tensor.MetaTensor'> torch.float32\n",
      "Shape: torch.Size([1, 96, 96, 24])\n",
      "Value range: (0.0, 4.0)\n",
      "Data statistics:\n",
      "Type: <class 'monai.data.meta_tensor.MetaTensor'> torch.float32\n",
      "Shape: torch.Size([1, 96, 96, 24])\n",
      "Value range: (0.0, 255.0)\n",
      "Data statistics:\n",
      "Type: <class 'monai.data.meta_tensor.MetaTensor'> torch.float32\n",
      "Shape: torch.Size([1, 96, 96, 24])\n",
      "Value range: (0.0, 1.0)\n"
     ]
    },
    {
     "name": "stderr",
     "output_type": "stream",
     "text": [
      "Current run is terminating due to exception: too many values to unpack (expected 2)\n"
     ]
    },
    {
     "name": "stdout",
     "output_type": "stream",
     "text": [
      "Error in preparing batch: too many values to unpack (expected 2)\n",
      "2024-03-13 16:34:40,760 - ERROR - Exception: too many values to unpack (expected 2)\n",
      "Traceback (most recent call last):\n",
      "  File \"/home/iejohnson/.venv/AML/lib/python3.10/site-packages/ignite/engine/engine.py\", line 1074, in _run_once_on_dataset_as_gen\n",
      "    self.state.output = self._process_function(self, self.state.batch)\n",
      "  File \"/home/iejohnson/.venv/AML/lib/python3.10/site-packages/ignite/engine/__init__.py\", line 111, in update\n",
      "    x, y = prepare_batch(batch, device=device, non_blocking=non_blocking)\n",
      "ValueError: too many values to unpack (expected 2)\n",
      "Data statistics:\n",
      "Type: <class 'monai.data.meta_tensor.MetaTensor'> torch.float32\n",
      "Shape: torch.Size([1, 96, 96, 24])\n",
      "Value range: (2.038743257522583, 1163.148681640625)\n",
      "Data statistics:\n",
      "Type: <class 'monai.data.meta_tensor.MetaTensor'> torch.float32\n",
      "Shape: torch.Size([1, 96, 96, 24])\n",
      "Value range: (0.0, 4.0)\n",
      "Data statistics:\n",
      "Type: <class 'monai.data.meta_tensor.MetaTensor'> torch.float32\n",
      "Shape: torch.Size([1, 96, 96, 24])\n",
      "Value range: (0.0, 255.0)\n",
      "Data statistics:\n",
      "Type: <class 'monai.data.meta_tensor.MetaTensor'> torch.float32\n",
      "Shape: torch.Size([1, 96, 96, 24])\n",
      "Value range: (0.0, 1.0)\n",
      "Data statistics:\n",
      "Type: <class 'monai.data.meta_tensor.MetaTensor'> torch.float32\n",
      "Shape: torch.Size([1, 96, 96, 24])\n",
      "Value range: (0.0, 850.4325561523438)\n",
      "Data statistics:\n",
      "Type: <class 'monai.data.meta_tensor.MetaTensor'> torch.float32\n",
      "Shape: torch.Size([1, 96, 96, 24])\n",
      "Value range: (0.0, 4.0)\n",
      "Data statistics:\n",
      "Type: <class 'monai.data.meta_tensor.MetaTensor'> torch.float32\n",
      "Shape: torch.Size([1, 96, 96, 24])\n",
      "Value range: (0.185671865940094, 1040.18701171875)\n",
      "Data statistics:\n",
      "Type: <class 'monai.data.meta_tensor.MetaTensor'> torch.float32\n",
      "Shape: torch.Size([1, 96, 96, 24])\n",
      "Value range: (0.0, 4.0)\n",
      "Data statistics:\n",
      "Type: <class 'monai.data.meta_tensor.MetaTensor'> torch.float32\n",
      "Shape: torch.Size([1, 96, 96, 24])\n",
      "Value range: (0.0, 255.0)\n",
      "Data statistics:\n",
      "Type: <class 'monai.data.meta_tensor.MetaTensor'> torch.float32\n",
      "Shape: torch.Size([1, 96, 96, 24])\n",
      "Value range: (0.0, 1.0)\n",
      "Data statistics:\n",
      "Type: <class 'monai.data.meta_tensor.MetaTensor'> torch.float32\n",
      "Shape: torch.Size([1, 96, 96, 24])\n",
      "Value range: (0.0, 255.0)\n",
      "Data statistics:\n",
      "Type: <class 'monai.data.meta_tensor.MetaTensor'> torch.float32\n",
      "Shape: torch.Size([1, 96, 96, 24])\n",
      "Value range: (0.0, 1.0)\n",
      "Data statistics:\n",
      "Type: <class 'monai.data.meta_tensor.MetaTensor'> torch.float32\n",
      "Shape: torch.Size([1, 96, 96, 24])\n",
      "Value range: (0.0, 1051.557373046875)\n",
      "Data statistics:\n",
      "Type: <class 'monai.data.meta_tensor.MetaTensor'> torch.float32\n",
      "Shape: torch.Size([1, 96, 96, 24])\n",
      "Value range: (0.0, 4.0)\n",
      "Data statistics:\n",
      "Type: <class 'monai.data.meta_tensor.MetaTensor'> torch.float32\n",
      "Shape: torch.Size([1, 96, 96, 24])\n",
      "Value range: (0.0, 255.0)\n",
      "Data statistics:\n",
      "Type: <class 'monai.data.meta_tensor.MetaTensor'> torch.float32\n",
      "Shape: torch.Size([1, 96, 96, 24])\n",
      "Value range: (0.0, 1.0)\n"
     ]
    },
    {
     "name": "stderr",
     "output_type": "stream",
     "text": [
      "Engine run is terminating due to exception: too many values to unpack (expected 2)\n"
     ]
    },
    {
     "name": "stdout",
     "output_type": "stream",
     "text": [
      "2024-03-13 16:34:40,990 - ERROR - Exception: too many values to unpack (expected 2)\n",
      "Traceback (most recent call last):\n",
      "  File \"/home/iejohnson/.venv/AML/lib/python3.10/site-packages/ignite/engine/engine.py\", line 965, in _internal_run_as_gen\n",
      "    epoch_time_taken += yield from self._run_once_on_dataset_as_gen()\n",
      "  File \"/home/iejohnson/.venv/AML/lib/python3.10/site-packages/ignite/engine/engine.py\", line 1093, in _run_once_on_dataset_as_gen\n",
      "    self._handle_exception(e)\n",
      "  File \"/home/iejohnson/.venv/AML/lib/python3.10/site-packages/ignite/engine/engine.py\", line 642, in _handle_exception\n",
      "    self._fire_event(Events.EXCEPTION_RAISED, e)\n",
      "  File \"/home/iejohnson/.venv/AML/lib/python3.10/site-packages/ignite/engine/engine.py\", line 431, in _fire_event\n",
      "    func(*first, *(event_args + others), **kwargs)\n",
      "  File \"/home/iejohnson/.venv/AML/lib/python3.10/site-packages/monai/handlers/stats_handler.py\", line 203, in exception_raised\n",
      "    raise e\n",
      "  File \"/home/iejohnson/.venv/AML/lib/python3.10/site-packages/ignite/engine/engine.py\", line 1074, in _run_once_on_dataset_as_gen\n",
      "    self.state.output = self._process_function(self, self.state.batch)\n",
      "  File \"/home/iejohnson/.venv/AML/lib/python3.10/site-packages/ignite/engine/__init__.py\", line 111, in update\n",
      "    x, y = prepare_batch(batch, device=device, non_blocking=non_blocking)\n",
      "ValueError: too many values to unpack (expected 2)\n"
     ]
    },
    {
     "ename": "ValueError",
     "evalue": "too many values to unpack (expected 2)",
     "output_type": "error",
     "traceback": [
      "\u001B[0;31m---------------------------------------------------------------------------\u001B[0m",
      "\u001B[0;31mValueError\u001B[0m                                Traceback (most recent call last)",
      "Cell \u001B[0;32mIn[28], line 2\u001B[0m\n\u001B[1;32m      1\u001B[0m max_epochs \u001B[38;5;241m=\u001B[39m \u001B[38;5;241m10\u001B[39m\n\u001B[0;32m----> 2\u001B[0m state \u001B[38;5;241m=\u001B[39m \u001B[43mtrainer\u001B[49m\u001B[38;5;241;43m.\u001B[39;49m\u001B[43mrun\u001B[49m\u001B[43m(\u001B[49m\u001B[43mtrain_loader\u001B[49m\u001B[43m,\u001B[49m\u001B[43m \u001B[49m\u001B[43mmax_epochs\u001B[49m\u001B[43m)\u001B[49m\n",
      "File \u001B[0;32m~/.venv/AML/lib/python3.10/site-packages/ignite/engine/engine.py:898\u001B[0m, in \u001B[0;36mEngine.run\u001B[0;34m(self, data, max_epochs, epoch_length, seed)\u001B[0m\n\u001B[1;32m    895\u001B[0m     \u001B[38;5;28mself\u001B[39m\u001B[38;5;241m.\u001B[39mstate\u001B[38;5;241m.\u001B[39mdataloader \u001B[38;5;241m=\u001B[39m data\n\u001B[1;32m    897\u001B[0m \u001B[38;5;28;01mif\u001B[39;00m \u001B[38;5;28mself\u001B[39m\u001B[38;5;241m.\u001B[39minterrupt_resume_enabled:\n\u001B[0;32m--> 898\u001B[0m     \u001B[38;5;28;01mreturn\u001B[39;00m \u001B[38;5;28;43mself\u001B[39;49m\u001B[38;5;241;43m.\u001B[39;49m\u001B[43m_internal_run\u001B[49m\u001B[43m(\u001B[49m\u001B[43m)\u001B[49m\n\u001B[1;32m    899\u001B[0m \u001B[38;5;28;01melse\u001B[39;00m:\n\u001B[1;32m    900\u001B[0m     \u001B[38;5;28;01mreturn\u001B[39;00m \u001B[38;5;28mself\u001B[39m\u001B[38;5;241m.\u001B[39m_internal_run_legacy()\n",
      "File \u001B[0;32m~/.venv/AML/lib/python3.10/site-packages/ignite/engine/engine.py:941\u001B[0m, in \u001B[0;36mEngine._internal_run\u001B[0;34m(self)\u001B[0m\n\u001B[1;32m    939\u001B[0m     \u001B[38;5;28mself\u001B[39m\u001B[38;5;241m.\u001B[39m_internal_run_generator \u001B[38;5;241m=\u001B[39m \u001B[38;5;28mself\u001B[39m\u001B[38;5;241m.\u001B[39m_internal_run_as_gen()\n\u001B[1;32m    940\u001B[0m \u001B[38;5;28;01mtry\u001B[39;00m:\n\u001B[0;32m--> 941\u001B[0m     \u001B[38;5;28;01mreturn\u001B[39;00m \u001B[38;5;28;43mnext\u001B[39;49m\u001B[43m(\u001B[49m\u001B[38;5;28;43mself\u001B[39;49m\u001B[38;5;241;43m.\u001B[39;49m\u001B[43m_internal_run_generator\u001B[49m\u001B[43m)\u001B[49m\n\u001B[1;32m    942\u001B[0m \u001B[38;5;28;01mexcept\u001B[39;00m \u001B[38;5;167;01mStopIteration\u001B[39;00m \u001B[38;5;28;01mas\u001B[39;00m out:\n\u001B[1;32m    943\u001B[0m     \u001B[38;5;28mself\u001B[39m\u001B[38;5;241m.\u001B[39m_internal_run_generator \u001B[38;5;241m=\u001B[39m \u001B[38;5;28;01mNone\u001B[39;00m\n",
      "File \u001B[0;32m~/.venv/AML/lib/python3.10/site-packages/ignite/engine/engine.py:999\u001B[0m, in \u001B[0;36mEngine._internal_run_as_gen\u001B[0;34m(self)\u001B[0m\n\u001B[1;32m    997\u001B[0m     \u001B[38;5;28mself\u001B[39m\u001B[38;5;241m.\u001B[39m_dataloader_iter \u001B[38;5;241m=\u001B[39m \u001B[38;5;28;01mNone\u001B[39;00m\n\u001B[1;32m    998\u001B[0m     \u001B[38;5;28mself\u001B[39m\u001B[38;5;241m.\u001B[39mlogger\u001B[38;5;241m.\u001B[39merror(\u001B[38;5;124mf\u001B[39m\u001B[38;5;124m\"\u001B[39m\u001B[38;5;124mEngine run is terminating due to exception: \u001B[39m\u001B[38;5;132;01m{\u001B[39;00me\u001B[38;5;132;01m}\u001B[39;00m\u001B[38;5;124m\"\u001B[39m)\n\u001B[0;32m--> 999\u001B[0m     \u001B[38;5;28;43mself\u001B[39;49m\u001B[38;5;241;43m.\u001B[39;49m\u001B[43m_handle_exception\u001B[49m\u001B[43m(\u001B[49m\u001B[43me\u001B[49m\u001B[43m)\u001B[49m\n\u001B[1;32m   1001\u001B[0m \u001B[38;5;28mself\u001B[39m\u001B[38;5;241m.\u001B[39m_dataloader_iter \u001B[38;5;241m=\u001B[39m \u001B[38;5;28;01mNone\u001B[39;00m\n\u001B[1;32m   1002\u001B[0m \u001B[38;5;28;01mreturn\u001B[39;00m \u001B[38;5;28mself\u001B[39m\u001B[38;5;241m.\u001B[39mstate\n",
      "File \u001B[0;32m~/.venv/AML/lib/python3.10/site-packages/ignite/engine/engine.py:642\u001B[0m, in \u001B[0;36mEngine._handle_exception\u001B[0;34m(self, e)\u001B[0m\n\u001B[1;32m    640\u001B[0m \u001B[38;5;28;01mdef\u001B[39;00m \u001B[38;5;21m_handle_exception\u001B[39m(\u001B[38;5;28mself\u001B[39m, e: \u001B[38;5;167;01mBaseException\u001B[39;00m) \u001B[38;5;241m-\u001B[39m\u001B[38;5;241m>\u001B[39m \u001B[38;5;28;01mNone\u001B[39;00m:\n\u001B[1;32m    641\u001B[0m     \u001B[38;5;28;01mif\u001B[39;00m Events\u001B[38;5;241m.\u001B[39mEXCEPTION_RAISED \u001B[38;5;129;01min\u001B[39;00m \u001B[38;5;28mself\u001B[39m\u001B[38;5;241m.\u001B[39m_event_handlers:\n\u001B[0;32m--> 642\u001B[0m         \u001B[38;5;28;43mself\u001B[39;49m\u001B[38;5;241;43m.\u001B[39;49m\u001B[43m_fire_event\u001B[49m\u001B[43m(\u001B[49m\u001B[43mEvents\u001B[49m\u001B[38;5;241;43m.\u001B[39;49m\u001B[43mEXCEPTION_RAISED\u001B[49m\u001B[43m,\u001B[49m\u001B[43m \u001B[49m\u001B[43me\u001B[49m\u001B[43m)\u001B[49m\n\u001B[1;32m    643\u001B[0m     \u001B[38;5;28;01melse\u001B[39;00m:\n\u001B[1;32m    644\u001B[0m         \u001B[38;5;28;01mraise\u001B[39;00m e\n",
      "File \u001B[0;32m~/.venv/AML/lib/python3.10/site-packages/ignite/engine/engine.py:431\u001B[0m, in \u001B[0;36mEngine._fire_event\u001B[0;34m(self, event_name, *event_args, **event_kwargs)\u001B[0m\n\u001B[1;32m    429\u001B[0m kwargs\u001B[38;5;241m.\u001B[39mupdate(event_kwargs)\n\u001B[1;32m    430\u001B[0m first, others \u001B[38;5;241m=\u001B[39m ((args[\u001B[38;5;241m0\u001B[39m],), args[\u001B[38;5;241m1\u001B[39m:]) \u001B[38;5;28;01mif\u001B[39;00m (args \u001B[38;5;129;01mand\u001B[39;00m args[\u001B[38;5;241m0\u001B[39m] \u001B[38;5;241m==\u001B[39m \u001B[38;5;28mself\u001B[39m) \u001B[38;5;28;01melse\u001B[39;00m ((), args)\n\u001B[0;32m--> 431\u001B[0m \u001B[43mfunc\u001B[49m\u001B[43m(\u001B[49m\u001B[38;5;241;43m*\u001B[39;49m\u001B[43mfirst\u001B[49m\u001B[43m,\u001B[49m\u001B[43m \u001B[49m\u001B[38;5;241;43m*\u001B[39;49m\u001B[43m(\u001B[49m\u001B[43mevent_args\u001B[49m\u001B[43m \u001B[49m\u001B[38;5;241;43m+\u001B[39;49m\u001B[43m \u001B[49m\u001B[43mothers\u001B[49m\u001B[43m)\u001B[49m\u001B[43m,\u001B[49m\u001B[43m \u001B[49m\u001B[38;5;241;43m*\u001B[39;49m\u001B[38;5;241;43m*\u001B[39;49m\u001B[43mkwargs\u001B[49m\u001B[43m)\u001B[49m\n",
      "File \u001B[0;32m~/.venv/AML/lib/python3.10/site-packages/monai/handlers/stats_handler.py:203\u001B[0m, in \u001B[0;36mStatsHandler.exception_raised\u001B[0;34m(self, _engine, e)\u001B[0m\n\u001B[1;32m    192\u001B[0m \u001B[38;5;250m\u001B[39m\u001B[38;5;124;03m\"\"\"\u001B[39;00m\n\u001B[1;32m    193\u001B[0m \u001B[38;5;124;03mHandler for train or validation/evaluation exception raised Event.\u001B[39;00m\n\u001B[1;32m    194\u001B[0m \u001B[38;5;124;03mPrint the exception information and traceback. This callback may be skipped because the logic\u001B[39;00m\n\u001B[0;32m   (...)\u001B[0m\n\u001B[1;32m    200\u001B[0m \n\u001B[1;32m    201\u001B[0m \u001B[38;5;124;03m\"\"\"\u001B[39;00m\n\u001B[1;32m    202\u001B[0m \u001B[38;5;28mself\u001B[39m\u001B[38;5;241m.\u001B[39mlogger\u001B[38;5;241m.\u001B[39mexception(\u001B[38;5;124mf\u001B[39m\u001B[38;5;124m\"\u001B[39m\u001B[38;5;124mException: \u001B[39m\u001B[38;5;132;01m{\u001B[39;00me\u001B[38;5;132;01m}\u001B[39;00m\u001B[38;5;124m\"\u001B[39m)\n\u001B[0;32m--> 203\u001B[0m \u001B[38;5;28;01mraise\u001B[39;00m e\n",
      "File \u001B[0;32m~/.venv/AML/lib/python3.10/site-packages/ignite/engine/engine.py:965\u001B[0m, in \u001B[0;36mEngine._internal_run_as_gen\u001B[0;34m(self)\u001B[0m\n\u001B[1;32m    962\u001B[0m \u001B[38;5;28;01mif\u001B[39;00m \u001B[38;5;28mself\u001B[39m\u001B[38;5;241m.\u001B[39m_dataloader_iter \u001B[38;5;129;01mis\u001B[39;00m \u001B[38;5;28;01mNone\u001B[39;00m:\n\u001B[1;32m    963\u001B[0m     \u001B[38;5;28mself\u001B[39m\u001B[38;5;241m.\u001B[39m_setup_engine()\n\u001B[0;32m--> 965\u001B[0m epoch_time_taken \u001B[38;5;241m+\u001B[39m\u001B[38;5;241m=\u001B[39m \u001B[38;5;28;01myield from\u001B[39;00m \u001B[38;5;28mself\u001B[39m\u001B[38;5;241m.\u001B[39m_run_once_on_dataset_as_gen()\n\u001B[1;32m    967\u001B[0m \u001B[38;5;66;03m# time is available for handlers but must be updated after fire\u001B[39;00m\n\u001B[1;32m    968\u001B[0m \u001B[38;5;28mself\u001B[39m\u001B[38;5;241m.\u001B[39mstate\u001B[38;5;241m.\u001B[39mtimes[Events\u001B[38;5;241m.\u001B[39mEPOCH_COMPLETED\u001B[38;5;241m.\u001B[39mname] \u001B[38;5;241m=\u001B[39m epoch_time_taken\n",
      "File \u001B[0;32m~/.venv/AML/lib/python3.10/site-packages/ignite/engine/engine.py:1093\u001B[0m, in \u001B[0;36mEngine._run_once_on_dataset_as_gen\u001B[0;34m(self)\u001B[0m\n\u001B[1;32m   1091\u001B[0m \u001B[38;5;28;01mexcept\u001B[39;00m \u001B[38;5;167;01mException\u001B[39;00m \u001B[38;5;28;01mas\u001B[39;00m e:\n\u001B[1;32m   1092\u001B[0m     \u001B[38;5;28mself\u001B[39m\u001B[38;5;241m.\u001B[39mlogger\u001B[38;5;241m.\u001B[39merror(\u001B[38;5;124mf\u001B[39m\u001B[38;5;124m\"\u001B[39m\u001B[38;5;124mCurrent run is terminating due to exception: \u001B[39m\u001B[38;5;132;01m{\u001B[39;00me\u001B[38;5;132;01m}\u001B[39;00m\u001B[38;5;124m\"\u001B[39m)\n\u001B[0;32m-> 1093\u001B[0m     \u001B[38;5;28;43mself\u001B[39;49m\u001B[38;5;241;43m.\u001B[39;49m\u001B[43m_handle_exception\u001B[49m\u001B[43m(\u001B[49m\u001B[43me\u001B[49m\u001B[43m)\u001B[49m\n\u001B[1;32m   1095\u001B[0m \u001B[38;5;28;01mreturn\u001B[39;00m time\u001B[38;5;241m.\u001B[39mtime() \u001B[38;5;241m-\u001B[39m start_time\n",
      "File \u001B[0;32m~/.venv/AML/lib/python3.10/site-packages/ignite/engine/engine.py:642\u001B[0m, in \u001B[0;36mEngine._handle_exception\u001B[0;34m(self, e)\u001B[0m\n\u001B[1;32m    640\u001B[0m \u001B[38;5;28;01mdef\u001B[39;00m \u001B[38;5;21m_handle_exception\u001B[39m(\u001B[38;5;28mself\u001B[39m, e: \u001B[38;5;167;01mBaseException\u001B[39;00m) \u001B[38;5;241m-\u001B[39m\u001B[38;5;241m>\u001B[39m \u001B[38;5;28;01mNone\u001B[39;00m:\n\u001B[1;32m    641\u001B[0m     \u001B[38;5;28;01mif\u001B[39;00m Events\u001B[38;5;241m.\u001B[39mEXCEPTION_RAISED \u001B[38;5;129;01min\u001B[39;00m \u001B[38;5;28mself\u001B[39m\u001B[38;5;241m.\u001B[39m_event_handlers:\n\u001B[0;32m--> 642\u001B[0m         \u001B[38;5;28;43mself\u001B[39;49m\u001B[38;5;241;43m.\u001B[39;49m\u001B[43m_fire_event\u001B[49m\u001B[43m(\u001B[49m\u001B[43mEvents\u001B[49m\u001B[38;5;241;43m.\u001B[39;49m\u001B[43mEXCEPTION_RAISED\u001B[49m\u001B[43m,\u001B[49m\u001B[43m \u001B[49m\u001B[43me\u001B[49m\u001B[43m)\u001B[49m\n\u001B[1;32m    643\u001B[0m     \u001B[38;5;28;01melse\u001B[39;00m:\n\u001B[1;32m    644\u001B[0m         \u001B[38;5;28;01mraise\u001B[39;00m e\n",
      "File \u001B[0;32m~/.venv/AML/lib/python3.10/site-packages/ignite/engine/engine.py:431\u001B[0m, in \u001B[0;36mEngine._fire_event\u001B[0;34m(self, event_name, *event_args, **event_kwargs)\u001B[0m\n\u001B[1;32m    429\u001B[0m kwargs\u001B[38;5;241m.\u001B[39mupdate(event_kwargs)\n\u001B[1;32m    430\u001B[0m first, others \u001B[38;5;241m=\u001B[39m ((args[\u001B[38;5;241m0\u001B[39m],), args[\u001B[38;5;241m1\u001B[39m:]) \u001B[38;5;28;01mif\u001B[39;00m (args \u001B[38;5;129;01mand\u001B[39;00m args[\u001B[38;5;241m0\u001B[39m] \u001B[38;5;241m==\u001B[39m \u001B[38;5;28mself\u001B[39m) \u001B[38;5;28;01melse\u001B[39;00m ((), args)\n\u001B[0;32m--> 431\u001B[0m \u001B[43mfunc\u001B[49m\u001B[43m(\u001B[49m\u001B[38;5;241;43m*\u001B[39;49m\u001B[43mfirst\u001B[49m\u001B[43m,\u001B[49m\u001B[43m \u001B[49m\u001B[38;5;241;43m*\u001B[39;49m\u001B[43m(\u001B[49m\u001B[43mevent_args\u001B[49m\u001B[43m \u001B[49m\u001B[38;5;241;43m+\u001B[39;49m\u001B[43m \u001B[49m\u001B[43mothers\u001B[49m\u001B[43m)\u001B[49m\u001B[43m,\u001B[49m\u001B[43m \u001B[49m\u001B[38;5;241;43m*\u001B[39;49m\u001B[38;5;241;43m*\u001B[39;49m\u001B[43mkwargs\u001B[49m\u001B[43m)\u001B[49m\n",
      "File \u001B[0;32m~/.venv/AML/lib/python3.10/site-packages/monai/handlers/stats_handler.py:203\u001B[0m, in \u001B[0;36mStatsHandler.exception_raised\u001B[0;34m(self, _engine, e)\u001B[0m\n\u001B[1;32m    192\u001B[0m \u001B[38;5;250m\u001B[39m\u001B[38;5;124;03m\"\"\"\u001B[39;00m\n\u001B[1;32m    193\u001B[0m \u001B[38;5;124;03mHandler for train or validation/evaluation exception raised Event.\u001B[39;00m\n\u001B[1;32m    194\u001B[0m \u001B[38;5;124;03mPrint the exception information and traceback. This callback may be skipped because the logic\u001B[39;00m\n\u001B[0;32m   (...)\u001B[0m\n\u001B[1;32m    200\u001B[0m \n\u001B[1;32m    201\u001B[0m \u001B[38;5;124;03m\"\"\"\u001B[39;00m\n\u001B[1;32m    202\u001B[0m \u001B[38;5;28mself\u001B[39m\u001B[38;5;241m.\u001B[39mlogger\u001B[38;5;241m.\u001B[39mexception(\u001B[38;5;124mf\u001B[39m\u001B[38;5;124m\"\u001B[39m\u001B[38;5;124mException: \u001B[39m\u001B[38;5;132;01m{\u001B[39;00me\u001B[38;5;132;01m}\u001B[39;00m\u001B[38;5;124m\"\u001B[39m)\n\u001B[0;32m--> 203\u001B[0m \u001B[38;5;28;01mraise\u001B[39;00m e\n",
      "File \u001B[0;32m~/.venv/AML/lib/python3.10/site-packages/ignite/engine/engine.py:1074\u001B[0m, in \u001B[0;36mEngine._run_once_on_dataset_as_gen\u001B[0;34m(self)\u001B[0m\n\u001B[1;32m   1071\u001B[0m \u001B[38;5;28mself\u001B[39m\u001B[38;5;241m.\u001B[39m_fire_event(Events\u001B[38;5;241m.\u001B[39mITERATION_STARTED)\n\u001B[1;32m   1072\u001B[0m \u001B[38;5;28;01myield from\u001B[39;00m \u001B[38;5;28mself\u001B[39m\u001B[38;5;241m.\u001B[39m_maybe_terminate_or_interrupt()\n\u001B[0;32m-> 1074\u001B[0m \u001B[38;5;28mself\u001B[39m\u001B[38;5;241m.\u001B[39mstate\u001B[38;5;241m.\u001B[39moutput \u001B[38;5;241m=\u001B[39m \u001B[38;5;28;43mself\u001B[39;49m\u001B[38;5;241;43m.\u001B[39;49m\u001B[43m_process_function\u001B[49m\u001B[43m(\u001B[49m\u001B[38;5;28;43mself\u001B[39;49m\u001B[43m,\u001B[49m\u001B[43m \u001B[49m\u001B[38;5;28;43mself\u001B[39;49m\u001B[38;5;241;43m.\u001B[39;49m\u001B[43mstate\u001B[49m\u001B[38;5;241;43m.\u001B[39;49m\u001B[43mbatch\u001B[49m\u001B[43m)\u001B[49m\n\u001B[1;32m   1075\u001B[0m \u001B[38;5;28mself\u001B[39m\u001B[38;5;241m.\u001B[39m_fire_event(Events\u001B[38;5;241m.\u001B[39mITERATION_COMPLETED)\n\u001B[1;32m   1076\u001B[0m \u001B[38;5;28;01myield from\u001B[39;00m \u001B[38;5;28mself\u001B[39m\u001B[38;5;241m.\u001B[39m_maybe_terminate_or_interrupt()\n",
      "File \u001B[0;32m~/.venv/AML/lib/python3.10/site-packages/ignite/engine/__init__.py:111\u001B[0m, in \u001B[0;36msupervised_training_step.<locals>.update\u001B[0;34m(engine, batch)\u001B[0m\n\u001B[1;32m    109\u001B[0m     optimizer\u001B[38;5;241m.\u001B[39mzero_grad()\n\u001B[1;32m    110\u001B[0m model\u001B[38;5;241m.\u001B[39mtrain()\n\u001B[0;32m--> 111\u001B[0m x, y \u001B[38;5;241m=\u001B[39m prepare_batch(batch, device\u001B[38;5;241m=\u001B[39mdevice, non_blocking\u001B[38;5;241m=\u001B[39mnon_blocking)\n\u001B[1;32m    112\u001B[0m output \u001B[38;5;241m=\u001B[39m model_fn(model, x)\n\u001B[1;32m    113\u001B[0m y_pred \u001B[38;5;241m=\u001B[39m model_transform(output)\n",
      "\u001B[0;31mValueError\u001B[0m: too many values to unpack (expected 2)"
     ]
    }
   ],
   "source": [],
   "metadata": {
    "collapsed": false,
    "ExecuteTime": {
     "end_time": "2024-03-13T21:34:41.203085111Z",
     "start_time": "2024-03-13T21:34:36.345717493Z"
    }
   },
   "id": "af75976abf4d6b7b"
  },
  {
   "cell_type": "code",
   "outputs": [],
   "source": [
    "import matplotlib.pyplot as plt\n",
    "import numpy as np\n",
    "\n",
    "def plot_image_histogram(image):\n",
    "    plt.hist(image.ravel(), bins=256)\n",
    "    plt.title('Image Histogram')\n",
    "    plt.show()\n",
    "\n",
    "def print_image_stats(image):\n",
    "    print(f'Min: {np.min(image)}, Max: {np.max(image)}, Mean: {np.mean(image)}, Std: {np.std(image)}')"
   ],
   "metadata": {
    "collapsed": false,
    "ExecuteTime": {
     "start_time": "2024-03-13T21:26:59.107008180Z"
    }
   },
   "id": "6e28543be8027815",
   "execution_count": null
  },
  {
   "cell_type": "code",
   "outputs": [],
   "source": [],
   "metadata": {
    "collapsed": false,
    "ExecuteTime": {
     "start_time": "2024-03-13T21:26:59.112962998Z"
    }
   },
   "id": "da79cf3c167224d6",
   "execution_count": null
  },
  {
   "cell_type": "markdown",
   "source": [],
   "metadata": {
    "collapsed": false
   },
   "id": "7a76340b1493e7fd"
  },
  {
   "cell_type": "code",
   "outputs": [],
   "source": [
    "import itk\n",
    "\n",
    "def load_image(image_path):\n",
    "    image = itk.imread(image_path)\n",
    "    image_array = itk.array_from_image(image)\n",
    "    return image_array\n",
    "\n",
    "def show_images(image_paths, mask_paths, num_images=5):\n",
    "    fig, ax = plt.subplots(num_images, 2, figsize=(10, num_images * 5))\n",
    "    for i in range(num_images):\n",
    "        image = load_image(image_paths[i])\n",
    "        mask = load_image(mask_paths[i])\n",
    "        ax[i, 0].imshow(image[5], cmap='gray')\n",
    "        ax[i, 0].set_title('Image')\n",
    "        ax[i, 1].imshow(mask[5])\n",
    "        ax[i, 1].set_title('Mask')\n",
    "    plt.tight_layout()\n",
    "    plt.show()"
   ],
   "metadata": {
    "collapsed": false,
    "ExecuteTime": {
     "start_time": "2024-03-13T21:26:59.117930946Z"
    }
   },
   "id": "43d2b47e045a7ac6",
   "execution_count": null
  },
  {
   "cell_type": "code",
   "outputs": [],
   "source": [
    "# Get a batch of images and masks\n",
    "num_images = 5\n",
    "explore_image_paths = image_paths[:num_images]\n",
    "explore_mask_paths = mask_paths[:num_images]\n",
    "\n",
    "# Show images\n",
    "\n",
    "show_images(explore_image_paths, explore_mask_paths)"
   ],
   "metadata": {
    "collapsed": false,
    "ExecuteTime": {
     "start_time": "2024-03-13T21:26:59.120866146Z"
    }
   },
   "id": "cfd74264b6a4216a",
   "execution_count": null
  },
  {
   "cell_type": "code",
   "outputs": [],
   "source": [
    "print(explore_mask_paths[0])\n",
    "explore_mask = load_image(explore_mask_paths[0])\n",
    "print_image_stats(explore_mask)\n",
    "# plot_image_histogram(explore_mask)\n",
    "print(np.unique(explore_mask)) "
   ],
   "metadata": {
    "collapsed": false,
    "ExecuteTime": {
     "end_time": "2024-03-13T21:26:59.207945549Z",
     "start_time": "2024-03-13T21:26:59.162182376Z"
    }
   },
   "id": "2f61b7d3c2199654",
   "execution_count": null
  },
  {
   "cell_type": "code",
   "outputs": [],
   "source": [
    "print(np.count_nonzero(explore_mask))"
   ],
   "metadata": {
    "collapsed": false,
    "ExecuteTime": {
     "start_time": "2024-03-13T21:26:59.162496338Z"
    }
   },
   "id": "d407f830a1769ad4",
   "execution_count": null
  },
  {
   "cell_type": "code",
   "outputs": [],
   "source": [
    "train_transforms = Compose(\n",
    "    [\n",
    "        LoadImaged(keys=[\"image\", \"label\"]),\n",
    "        ScaleIntensityd(keys=[\"image\"]),\n",
    "        RandCropByPosNegLabeld(\n",
    "            keys=[\"image\", \"label\"],\n",
    "            label_key=\"label\",\n",
    "            spatial_size=[96, 96, 96],\n",
    "            pos=1,\n",
    "            neg=1,\n",
    "            num_samples=4,\n",
    "            image_key=\"image\",\n",
    "            image_threshold=0,\n",
    "        ),\n",
    "        ToTensord(keys=[\"image\", \"label\"]),\n",
    "    ]\n",
    ")"
   ],
   "metadata": {
    "collapsed": false,
    "ExecuteTime": {
     "start_time": "2024-03-13T21:26:59.162717758Z"
    }
   },
   "id": "3136c026f3f56857",
   "execution_count": null
  }
 ],
 "metadata": {
  "kernelspec": {
   "display_name": "Python 3",
   "language": "python",
   "name": "python3"
  },
  "language_info": {
   "codemirror_mode": {
    "name": "ipython",
    "version": 2
   },
   "file_extension": ".py",
   "mimetype": "text/x-python",
   "name": "python",
   "nbconvert_exporter": "python",
   "pygments_lexer": "ipython2",
   "version": "2.7.6"
  }
 },
 "nbformat": 4,
 "nbformat_minor": 5
}
